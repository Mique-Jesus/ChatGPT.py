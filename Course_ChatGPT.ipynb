{
  "nbformat": 4,
  "nbformat_minor": 0,
  "metadata": {
    "colab": {
      "provenance": []
    },
    "kernelspec": {
      "name": "python3",
      "display_name": "Python 3"
    },
    "language_info": {
      "name": "python"
    }
  },
  "cells": [
    {
      "cell_type": "markdown",
      "source": [
        "# **GUIDELINES**"
      ],
      "metadata": {
        "id": "b0YUqqezKEbL"
      }
    },
    {
      "cell_type": "code",
      "execution_count": 1,
      "metadata": {
        "colab": {
          "base_uri": "https://localhost:8080/"
        },
        "id": "8MqWhPYZPNmN",
        "outputId": "27cbc305-72a2-465f-ef8c-1722dd00aeae"
      },
      "outputs": [
        {
          "output_type": "stream",
          "name": "stdout",
          "text": [
            "Collecting openai\n",
            "  Downloading openai-0.27.8-py3-none-any.whl (73 kB)\n",
            "\u001b[?25l     \u001b[90m━━━━━━━━━━━━━━━━━━━━━━━━━━━━━━━━━━━━━━━━\u001b[0m \u001b[32m0.0/73.6 kB\u001b[0m \u001b[31m?\u001b[0m eta \u001b[36m-:--:--\u001b[0m\r\u001b[2K     \u001b[91m━━━━━━━━━━━━━━━━━━━━━━━━━━━━━━━━━\u001b[0m\u001b[90m╺\u001b[0m\u001b[90m━━━━━━\u001b[0m \u001b[32m61.4/73.6 kB\u001b[0m \u001b[31m1.6 MB/s\u001b[0m eta \u001b[36m0:00:01\u001b[0m\r\u001b[2K     \u001b[90m━━━━━━━━━━━━━━━━━━━━━━━━━━━━━━━━━━━━━━━━\u001b[0m \u001b[32m73.6/73.6 kB\u001b[0m \u001b[31m1.3 MB/s\u001b[0m eta \u001b[36m0:00:00\u001b[0m\n",
            "\u001b[?25hRequirement already satisfied: requests>=2.20 in /usr/local/lib/python3.10/dist-packages (from openai) (2.27.1)\n",
            "Requirement already satisfied: tqdm in /usr/local/lib/python3.10/dist-packages (from openai) (4.65.0)\n",
            "Requirement already satisfied: aiohttp in /usr/local/lib/python3.10/dist-packages (from openai) (3.8.5)\n",
            "Requirement already satisfied: urllib3<1.27,>=1.21.1 in /usr/local/lib/python3.10/dist-packages (from requests>=2.20->openai) (1.26.16)\n",
            "Requirement already satisfied: certifi>=2017.4.17 in /usr/local/lib/python3.10/dist-packages (from requests>=2.20->openai) (2023.7.22)\n",
            "Requirement already satisfied: charset-normalizer~=2.0.0 in /usr/local/lib/python3.10/dist-packages (from requests>=2.20->openai) (2.0.12)\n",
            "Requirement already satisfied: idna<4,>=2.5 in /usr/local/lib/python3.10/dist-packages (from requests>=2.20->openai) (3.4)\n",
            "Requirement already satisfied: attrs>=17.3.0 in /usr/local/lib/python3.10/dist-packages (from aiohttp->openai) (23.1.0)\n",
            "Requirement already satisfied: multidict<7.0,>=4.5 in /usr/local/lib/python3.10/dist-packages (from aiohttp->openai) (6.0.4)\n",
            "Requirement already satisfied: async-timeout<5.0,>=4.0.0a3 in /usr/local/lib/python3.10/dist-packages (from aiohttp->openai) (4.0.2)\n",
            "Requirement already satisfied: yarl<2.0,>=1.0 in /usr/local/lib/python3.10/dist-packages (from aiohttp->openai) (1.9.2)\n",
            "Requirement already satisfied: frozenlist>=1.1.1 in /usr/local/lib/python3.10/dist-packages (from aiohttp->openai) (1.4.0)\n",
            "Requirement already satisfied: aiosignal>=1.1.2 in /usr/local/lib/python3.10/dist-packages (from aiohttp->openai) (1.3.1)\n",
            "Installing collected packages: openai\n",
            "Successfully installed openai-0.27.8\n"
          ]
        }
      ],
      "source": [
        "!pip install openai"
      ]
    },
    {
      "cell_type": "code",
      "source": [
        "#Code that loads the OpenAI API key for you\n",
        "import openai\n",
        "openai.api_key = \"sk-...\""
      ],
      "metadata": {
        "id": "NzBAmJ8lQHX2"
      },
      "execution_count": 2,
      "outputs": []
    },
    {
      "cell_type": "code",
      "source": [
        "#This helper function will make it easier to use prompts and look at the generated outputs\n",
        "def get_completion(prompt, model=\"gpt-3.5-turbo\", temperature=0):\n",
        "    messages = [{\"role\": \"user\", \"content\": prompt}]\n",
        "    response = openai.ChatCompletion.create(\n",
        "        model=model,\n",
        "        messages=messages,\n",
        "        temperature=0, # this is the degree of randomness of the model's output\n",
        "    )\n",
        "    return response.choices[0].message[\"content\"]"
      ],
      "metadata": {
        "id": "FHqiIQhWQ9Mc"
      },
      "execution_count": null,
      "outputs": []
    },
    {
      "cell_type": "markdown",
      "source": [
        "**Principle 1: Write clear and specific instructions**"
      ],
      "metadata": {
        "id": "mKX76UFu3fIA"
      }
    },
    {
      "cell_type": "code",
      "source": [
        "#Tactic 1: Use delimiters to clearly indicate distinct parts of the input\n",
        "text = f\"\"\"\n",
        "You should express what you want a model to do by \\\n",
        "providing instructions that are as clear and \\\n",
        "specific as you can possibly make them. \\\n",
        "This will guide the model towards the desired output, \\\n",
        "and reduce the chances of receiving irrelevant \\\n",
        "or incorrect responses. Don't confuse writing a \\\n",
        "clear prompt with writing a short prompt. \\\n",
        "In many cases, longer prompts provide more clarity \\\n",
        "and context for the model, which can lead to \\\n",
        "more detailed and relevant outputs.\n",
        "\"\"\"\n",
        "prompt = f\"\"\"\n",
        "Summarize the text delimited by triple backticks \\\n",
        "into a single sentence.\n",
        "```{text}```\n",
        "\"\"\"\n",
        "response = get_completion(prompt)\n",
        "print(response)"
      ],
      "metadata": {
        "id": "iDOEbfDkRz_K"
      },
      "execution_count": null,
      "outputs": []
    },
    {
      "cell_type": "code",
      "source": [
        "#Tactic 2: Ask for a structured output\n",
        "prompt = f\"\"\"\n",
        "Generate a list of three made-up book titles along \\\n",
        "with their authors and genres.\n",
        "Provide them in JSON format with the following keys:\n",
        "book_id, title, author, genre.\n",
        "\"\"\"\n",
        "response = get_completion(prompt)\n",
        "print(response)"
      ],
      "metadata": {
        "id": "V3ki-R46dCQH"
      },
      "execution_count": null,
      "outputs": []
    },
    {
      "cell_type": "code",
      "source": [
        "#Tactic 3: Ask the model to check whether conditions are satisfied\n",
        "text_1 = f\"\"\"\n",
        "Making a cup of tea is easy! First, you need to get some \\\n",
        "water boiling. While that's happening, \\\n",
        "grab a cup and put a tea bag in it. Once the water is \\\n",
        "hot enough, just pour it over the tea bag. \\\n",
        "Let it sit for a bit so the tea can steep. After a \\\n",
        "few minutes, take out the tea bag. If you \\\n",
        "like, you can add some sugar or milk to taste. \\\n",
        "And that's it! You've got yourself a delicious \\\n",
        "cup of tea to enjoy.\n",
        "\"\"\"\n",
        "prompt = f\"\"\"\n",
        "You will be provided with text delimited by triple quotes.\n",
        "If it contains a sequence of instructions, \\\n",
        "re-write those instructions in the following format:\n",
        "\n",
        "Step 1 - ...\n",
        "Step 2 - …\n",
        "…\n",
        "Step N - …\n",
        "\n",
        "If the text does not contain a sequence of instructions, \\\n",
        "then simply write \\\"No steps provided.\\\"\n",
        "\n",
        "\\\"\\\"\\\"{text_1}\\\"\\\"\\\"\n",
        "\"\"\"\n",
        "response = get_completion(prompt)\n",
        "print(\"Completion for Text 1:\")\n",
        "print(response)"
      ],
      "metadata": {
        "id": "d8jZSN1jhczw"
      },
      "execution_count": null,
      "outputs": []
    },
    {
      "cell_type": "code",
      "source": [
        "#Tactic 4: \"Few-shot\" prompting (Give successful examples of completing tasks)\n",
        "prompt = f\"\"\"\n",
        "Your task is to answer in a consistent style.\n",
        "\n",
        "<child>: Teach me about patience.\n",
        "\n",
        "<grandparent>: The river that carves the deepest \\\n",
        "valley flows from a modest spring; the \\\n",
        "grandest symphony originates from a single note; \\\n",
        "the most intricate tapestry begins with a solitary thread.\n",
        "\n",
        "<child>: Teach me about resilience.\n",
        "\"\"\"\n",
        "response = get_completion(prompt)\n",
        "print(response)\n"
      ],
      "metadata": {
        "id": "JZJYpl9V25kf",
        "colab": {
          "base_uri": "https://localhost:8080/"
        },
        "outputId": "88857af5-a54d-44a0-be7f-2f4faf7f6a33"
      },
      "execution_count": null,
      "outputs": [
        {
          "output_type": "stream",
          "name": "stdout",
          "text": [
            "<grandparent>: Resilience is like a mighty oak tree that withstands the strongest storms, bending but never breaking. It is the ability to bounce back from adversity, to find strength in the face of challenges, and to persevere even when the odds seem insurmountable. Just as a diamond is formed under immense pressure, resilience is forged through the trials and tribulations of life.\n"
          ]
        }
      ]
    },
    {
      "cell_type": "markdown",
      "source": [
        "**Principle 2: Give the model time to “think”**"
      ],
      "metadata": {
        "id": "ZplS95J65pHV"
      }
    },
    {
      "cell_type": "code",
      "source": [
        "#Tactic 1: Specify the steps required to complete a complex task\n",
        "text = f\"\"\"\n",
        "In a charming village, siblings Jack and Jill set out on \\\n",
        "a quest to fetch water from a hilltop \\\n",
        "well. As they climbed, singing joyfully, misfortune \\\n",
        "struck—Jack tripped on a stone and tumbled \\\n",
        "down the hill, with Jill following suit. \\\n",
        "Though slightly battered, the pair returned home to \\\n",
        "comforting embraces. Despite the mishap, \\\n",
        "their adventurous spirits remained undimmed, and they \\\n",
        "continued exploring with delight.\n",
        "\"\"\"\n",
        "\n",
        "prompt_1 = f\"\"\"\n",
        "Perform the following actions:\n",
        "1 - Summarize the following text delimited by triple \\\n",
        "backticks with 1 sentence.\n",
        "2 - Translate the summary into Spanish.\n",
        "3 - List each name in the Spanish summary.\n",
        "4 - Output a json object that contains the following \\\n",
        "keys: spanish_summary, num_names.\n",
        "\n",
        "Separate your answers with line breaks.\n",
        "\n",
        "Text:\n",
        "```{text}```\n",
        "\"\"\"\n",
        "\n",
        "# we can indicate \"Use the following format\" in the prompt:\n",
        "#Text: <text to summarize>\n",
        "#Summary: <summary>\n",
        "#Translation: <summary translation>\n",
        "#Names: <list of names in Italian summary>\n",
        "#Output JSON: <json with summary and num_names>\n",
        "\n",
        "response = get_completion(prompt_1)\n",
        "print(\"Completion for prompt 1:\")\n",
        "print(response)"
      ],
      "metadata": {
        "id": "iXwxeJEV5sb8"
      },
      "execution_count": null,
      "outputs": []
    },
    {
      "cell_type": "code",
      "source": [
        "#Tactic 2: Instruct the model to work out its own solution before rushing to a conclusion\n",
        "##Bad example: The student's solution is incorrect, but the assessing conclude the opposite\n",
        "prompt = f\"\"\"\n",
        "Determine if the student's solution is correct or not.\n",
        "\n",
        "Question:\n",
        "I'm building a solar power installation and I need \\\n",
        " help working out the financials.\n",
        "- Land costs $100 / square foot\n",
        "- I can buy solar panels for $250 / square foot\n",
        "- I negotiated a contract for maintenance that will cost \\\n",
        "me a flat $100k per year, and an additional $10 / square \\\n",
        "foot\n",
        "What is the total cost for the first year of operations\n",
        "as a function of the number of square feet.\n",
        "\n",
        "Student's Solution:\n",
        "Let x be the size of the installation in square feet.\n",
        "Costs:\n",
        "1. Land cost: 100x\n",
        "2. Solar panel cost: 250x\n",
        "3. Maintenance cost: 100,000 + 100x\n",
        "Total cost: 100x + 250x + 100,000 + 100x = 450x + 100,000\n",
        "\"\"\"\n",
        "response = get_completion(prompt)\n",
        "print(response)"
      ],
      "metadata": {
        "id": "m2rbsU5TFR-c"
      },
      "execution_count": null,
      "outputs": []
    },
    {
      "cell_type": "code",
      "source": [
        "##We should instruct explicitly the model to work out its own solution first and we can specify the format\n",
        "prompt = f\"\"\"\n",
        "Your task is to determine if the student's solution \\\n",
        "is correct or not.\n",
        "To solve the problem do the following:\n",
        "- First, work out your own solution to the problem.\n",
        "- Then compare your solution to the student's solution \\\n",
        "and evaluate if the student's solution is correct or not.\n",
        "Don't decide if the student's solution is correct until\n",
        "you have done the problem yourself.\n",
        "\n",
        "Use the following format:\n",
        "Question:\n",
        "```\n",
        "question here\n",
        "```\n",
        "Student's solution:\n",
        "```\n",
        "student's solution here\n",
        "```\n",
        "Actual solution:\n",
        "```\n",
        "steps to work out the solution and your solution here\n",
        "```\n",
        "Is the student's solution the same as actual solution \\\n",
        "just calculated:\n",
        "```\n",
        "yes or no\n",
        "```\n",
        "Student grade:\n",
        "```\n",
        "correct or incorrect\n",
        "```\n",
        "\n",
        "Question:\n",
        "```\n",
        "I'm building a solar power installation and I need help \\\n",
        "working out the financials.\n",
        "- Land costs $100 / square foot\n",
        "- I can buy solar panels for $250 / square foot\n",
        "- I negotiated a contract for maintenance that will cost \\\n",
        "me a flat $100k per year, and an additional $10 / square \\\n",
        "foot\n",
        "What is the total cost for the first year of operations \\\n",
        "as a function of the number of square feet.\n",
        "```\n",
        "Student's solution:\n",
        "```\n",
        "Let x be the size of the installation in square feet.\n",
        "Costs:\n",
        "1. Land cost: 100x\n",
        "2. Solar panel cost: 250x\n",
        "3. Maintenance cost: 100,000 + 100x\n",
        "Total cost: 100x + 250x + 100,000 + 100x = 450x + 100,000\n",
        "```\n",
        "Actual solution:\n",
        "\"\"\"\n",
        "response = get_completion(prompt)\n",
        "print(response)"
      ],
      "metadata": {
        "id": "8d1mJDLu2AC2"
      },
      "execution_count": null,
      "outputs": []
    },
    {
      "cell_type": "markdown",
      "source": [
        "**Model Limitations:** **Hallucinations**"
      ],
      "metadata": {
        "id": "91MT3nziHy9a"
      }
    },
    {
      "cell_type": "code",
      "source": [
        "#Boie is a real company, the product name is not real.\n",
        "prompt = f\"\"\"\n",
        "Tell me about AeroGlide UltraSlim Smart Toothbrush by Boie\n",
        "\"\"\"\n",
        "response = get_completion(prompt)\n",
        "print(response)"
      ],
      "metadata": {
        "id": "hioLJZsD-DHS"
      },
      "execution_count": null,
      "outputs": []
    },
    {
      "cell_type": "markdown",
      "source": [
        "# **ITERATIVE**"
      ],
      "metadata": {
        "id": "17TBfU7Rd6W2"
      }
    },
    {
      "cell_type": "code",
      "source": [
        "fact_sheet_chair = \"\"\"\n",
        "OVERVIEW\n",
        "- Part of a beautiful family of mid-century inspired office furniture,\n",
        "including filing cabinets, desks, bookcases, meeting tables, and more.\n",
        "- Several options of shell color and base finishes.\n",
        "- Available with plastic back and front upholstery (SWC-100)\n",
        "or full upholstery (SWC-110) in 10 fabric and 6 leather options.\n",
        "- Base finish options are: stainless steel, matte black,\n",
        "gloss white, or chrome.\n",
        "- Chair is available with or without armrests.\n",
        "- Suitable for home or business settings.\n",
        "- Qualified for contract use.\n",
        "\n",
        "CONSTRUCTION\n",
        "- 5-wheel plastic coated aluminum base.\n",
        "- Pneumatic chair adjust for easy raise/lower action.\n",
        "\n",
        "DIMENSIONS\n",
        "- WIDTH 53 CM | 20.87”\n",
        "- DEPTH 51 CM | 20.08”\n",
        "- HEIGHT 80 CM | 31.50”\n",
        "- SEAT HEIGHT 44 CM | 17.32”\n",
        "- SEAT DEPTH 41 CM | 16.14”\n",
        "\n",
        "OPTIONS\n",
        "- Soft or hard-floor caster options.\n",
        "- Two choices of seat foam densities:\n",
        " medium (1.8 lb/ft3) or high (2.8 lb/ft3)\n",
        "- Armless or 8 position PU armrests\n",
        "\n",
        "MATERIALS\n",
        "SHELL BASE GLIDER\n",
        "- Cast Aluminum with modified nylon PA6/PA66 coating.\n",
        "- Shell thickness: 10 mm.\n",
        "SEAT\n",
        "- HD36 foam\n",
        "\n",
        "COUNTRY OF ORIGIN\n",
        "- Italy\n",
        "\"\"\""
      ],
      "metadata": {
        "id": "R3V_u7ANBZg0"
      },
      "execution_count": null,
      "outputs": []
    },
    {
      "cell_type": "code",
      "source": [
        "#ITERATION N°1\n",
        "prompt = f\"\"\"\n",
        "Your task is to help a marketing team create a\n",
        "description for a retail website of a product based\n",
        "on a technical fact sheet.\n",
        "\n",
        "Write a product description based on the information\n",
        "provided in the technical specifications delimited by\n",
        "triple backticks.\n",
        "\n",
        "Use at most 50 words.\n",
        "\n",
        "Technical specifications: ```{fact_sheet_chair}```\n",
        "\"\"\"\n",
        "response = get_completion(prompt)\n",
        "print(response)"
      ],
      "metadata": {
        "id": "DQQrZVk1eukk",
        "colab": {
          "base_uri": "https://localhost:8080/"
        },
        "outputId": "74689622-7bc7-4e60-865d-ce50c249384d"
      },
      "execution_count": null,
      "outputs": [
        {
          "output_type": "stream",
          "name": "stdout",
          "text": [
            "Introducing our mid-century inspired office chair, part of a beautiful furniture family. Available in various shell colors and base finishes, with plastic or full upholstery options in fabric or leather. Suitable for home or business use, with a 5-wheel base and pneumatic chair adjust. Made in Italy.\n"
          ]
        }
      ]
    },
    {
      "cell_type": "code",
      "source": [
        "#ITERATION N°2\n",
        "prompt = f\"\"\"\n",
        "Your task is to help a marketing team create a\n",
        "description for a retail website of a product based\n",
        "on a technical fact sheet.\n",
        "\n",
        "Write a product description based on the information\n",
        "provided in the technical specifications delimited by\n",
        "triple backticks.\n",
        "\n",
        "The description is intended for furniture retailers,\n",
        "so should be technical in nature and focus on the\n",
        "materials the product is constructed from.\n",
        "\n",
        "At the end of the description, include every 7-character\n",
        "Product ID in the technical specification.\n",
        "\n",
        "Use at most 50 words.\n",
        "\n",
        "Technical specifications: ```{fact_sheet_chair}```\n",
        "\"\"\"\n",
        "response = get_completion(prompt)\n",
        "print(response)"
      ],
      "metadata": {
        "id": "4ZPAQBscfJSe"
      },
      "execution_count": null,
      "outputs": []
    },
    {
      "cell_type": "code",
      "source": [
        "#ITERATION N°3\n",
        "prompt = f\"\"\"\n",
        "Your task is to help a marketing team create a\n",
        "description for a retail website of a product based\n",
        "on a technical fact sheet.\n",
        "\n",
        "Write a product description based on the information\n",
        "provided in the technical specifications delimited by\n",
        "triple backticks.\n",
        "\n",
        "The description is intended for furniture retailers,\n",
        "so should be technical in nature and focus on the\n",
        "materials the product is constructed from.\n",
        "\n",
        "At the end of the description, include every 7-character\n",
        "Product ID in the technical specification.\n",
        "\n",
        "After the description, include a table that gives the\n",
        "product's dimensions. The table should have two columns.\n",
        "In the first column include the name of the dimension.\n",
        "In the second column include the measurements in inches only.\n",
        "\n",
        "Give the table the title 'Product Dimensions'.\n",
        "\n",
        "Format everything as HTML that can be used in a website.\n",
        "Place the description in a <div> element.\n",
        "\n",
        "Technical specifications: ```{fact_sheet_chair}```\n",
        "\"\"\"\n",
        "\n",
        "response = get_completion(prompt)\n",
        "print(response)"
      ],
      "metadata": {
        "colab": {
          "base_uri": "https://localhost:8080/"
        },
        "id": "u6dpFVNZgVNH",
        "outputId": "8c1bb8c7-6171-4386-ace0-6dd3abf8e581"
      },
      "execution_count": null,
      "outputs": [
        {
          "output_type": "stream",
          "name": "stdout",
          "text": [
            "<div>\n",
            "<h2>Mid-Century Inspired Office Chair</h2>\n",
            "<p>Introducing our mid-century inspired office chair, part of a beautiful family of office furniture that includes filing cabinets, desks, bookcases, meeting tables, and more. This chair is available in several options of shell color and base finishes, allowing you to customize it to your liking. You can choose between plastic back and front upholstery or full upholstery in 10 fabric and 6 leather options. The base finish options are stainless steel, matte black, gloss white, or chrome. The chair is also available with or without armrests, making it suitable for both home and business settings. Plus, it's qualified for contract use, so you can trust its durability and quality.</p>\n",
            "<h3>Construction</h3>\n",
            "<p>The chair features a 5-wheel plastic coated aluminum base and a pneumatic chair adjust for easy raise/lower action. You can choose between soft or hard-floor caster options and two choices of seat foam densities: medium (1.8 lb/ft3) or high (2.8 lb/ft3). The chair is also available with armless or 8 position PU armrests.</p>\n",
            "<h3>Materials</h3>\n",
            "<p>The shell base glider is made of cast aluminum with modified nylon PA6/PA66 coating, and the shell thickness is 10 mm. The seat is made of HD36 foam, ensuring comfort and support.</p>\n",
            "<h3>Product Dimensions</h3>\n",
            "<table>\n",
            "  <tr>\n",
            "    <td>Width</td>\n",
            "    <td>53 cm | 20.87\"</td>\n",
            "  </tr>\n",
            "  <tr>\n",
            "    <td>Depth</td>\n",
            "    <td>51 cm | 20.08\"</td>\n",
            "  </tr>\n",
            "  <tr>\n",
            "    <td>Height</td>\n",
            "    <td>80 cm | 31.50\"</td>\n",
            "  </tr>\n",
            "  <tr>\n",
            "    <td>Seat Height</td>\n",
            "    <td>44 cm | 17.32\"</td>\n",
            "  </tr>\n",
            "  <tr>\n",
            "    <td>Seat Depth</td>\n",
            "    <td>41 cm | 16.14\"</td>\n",
            "  </tr>\n",
            "</table>\n",
            "<h3>Product ID</h3>\n",
            "<p>SWC-100, SWC-110</p>\n",
            "</div>\n"
          ]
        }
      ]
    },
    {
      "cell_type": "code",
      "source": [
        "from IPython.display import display, HTML\n",
        "display(HTML(response))"
      ],
      "metadata": {
        "id": "ad6pRYCyB096",
        "outputId": "8134a1e7-a9b4-456b-a448-ca7ee15a42f9",
        "colab": {
          "base_uri": "https://localhost:8080/",
          "height": 489
        }
      },
      "execution_count": null,
      "outputs": [
        {
          "output_type": "display_data",
          "data": {
            "text/plain": [
              "<IPython.core.display.HTML object>"
            ],
            "text/html": [
              "<div>\n",
              "<h2>Mid-Century Inspired Office Chair</h2>\n",
              "<p>Introducing our mid-century inspired office chair, part of a beautiful family of office furniture that includes filing cabinets, desks, bookcases, meeting tables, and more. This chair is available in several options of shell color and base finishes, allowing you to customize it to your liking. You can choose between plastic back and front upholstery or full upholstery in 10 fabric and 6 leather options. The base finish options are stainless steel, matte black, gloss white, or chrome. The chair is also available with or without armrests, making it suitable for both home and business settings. Plus, it's qualified for contract use, so you can trust its durability and quality.</p>\n",
              "<h3>Construction</h3>\n",
              "<p>The chair features a 5-wheel plastic coated aluminum base and a pneumatic chair adjust for easy raise/lower action. You can choose between soft or hard-floor caster options and two choices of seat foam densities: medium (1.8 lb/ft3) or high (2.8 lb/ft3). The chair is also available with armless or 8 position PU armrests.</p>\n",
              "<h3>Materials</h3>\n",
              "<p>The shell base glider is made of cast aluminum with modified nylon PA6/PA66 coating, and the shell thickness is 10 mm. The seat is made of HD36 foam, ensuring comfort and support.</p>\n",
              "<h3>Product Dimensions</h3>\n",
              "<table>\n",
              "  <tr>\n",
              "    <td>Width</td>\n",
              "    <td>53 cm | 20.87\"</td>\n",
              "  </tr>\n",
              "  <tr>\n",
              "    <td>Depth</td>\n",
              "    <td>51 cm | 20.08\"</td>\n",
              "  </tr>\n",
              "  <tr>\n",
              "    <td>Height</td>\n",
              "    <td>80 cm | 31.50\"</td>\n",
              "  </tr>\n",
              "  <tr>\n",
              "    <td>Seat Height</td>\n",
              "    <td>44 cm | 17.32\"</td>\n",
              "  </tr>\n",
              "  <tr>\n",
              "    <td>Seat Depth</td>\n",
              "    <td>41 cm | 16.14\"</td>\n",
              "  </tr>\n",
              "</table>\n",
              "<h3>Product ID</h3>\n",
              "<p>SWC-100, SWC-110</p>\n",
              "</div>"
            ]
          },
          "metadata": {}
        }
      ]
    },
    {
      "cell_type": "markdown",
      "source": [
        "# **SUMMARIZING**"
      ],
      "metadata": {
        "id": "jFZQAZQ4pWC3"
      }
    },
    {
      "cell_type": "code",
      "source": [
        "prod_review = \"\"\"\n",
        "Got this panda plush toy for my daughter's birthday, \\\n",
        "who loves it and takes it everywhere. It's soft and \\\n",
        "super cute, and its face has a friendly look. It's \\\n",
        "a bit small for what I paid though. I think there \\\n",
        "might be other options that are bigger for the \\\n",
        "same price. It arrived a day earlier than expected, \\\n",
        "so I got to play with it myself before I gave it \\\n",
        "to her.\n",
        "\"\"\""
      ],
      "metadata": {
        "id": "FH1d5mbkpZ51"
      },
      "execution_count": null,
      "outputs": []
    },
    {
      "cell_type": "code",
      "source": [
        "#Good practices:\n",
        "#a.Indicate the context and the addressee\n",
        "#b.Limit the number of words\n",
        "#c.Focus on specific topics\n",
        "prompt = f\"\"\"\n",
        "Your task is to generate a short summary of a product \\\n",
        "review from an ecommerce site to give feedback to the \\\n",
        "pricing deparmtment, responsible for determining the \\\n",
        "price of the product.\n",
        "\n",
        "Summarize the review below, delimited by triple\n",
        "backticks, in at most 30 words, and focusing on any aspects \\\n",
        "that are relevant to the price and perceived value.\n",
        "\n",
        "Review: ```{prod_review}```\n",
        "\"\"\"\n",
        "\n",
        "response = get_completion(prompt)\n",
        "print(response)"
      ],
      "metadata": {
        "colab": {
          "base_uri": "https://localhost:8080/"
        },
        "id": "pIkIevxCZhk3",
        "outputId": "6ea041f6-dc5e-49b5-fe6b-d6bfd3e0125c"
      },
      "execution_count": null,
      "outputs": [
        {
          "output_type": "stream",
          "name": "stdout",
          "text": [
            "The panda plush toy is soft, cute, and loved by the recipient, but the price may be too high for its size compared to other options.\n"
          ]
        }
      ]
    },
    {
      "cell_type": "code",
      "source": [
        "#\"extract\" instead of \"summarize\"\n",
        "prompt = f\"\"\"\n",
        "Your task is to extract relevant information a product \\\n",
        "review from an ecommerce site to give feedback to the \\\n",
        "pricing deparmtment, responsible for determining the \\\n",
        "price of the product.\n",
        "\n",
        "From the review below, delimited by triple \\\n",
        "backticks, extract the information relevant to the price \\\n",
        "and perceived value. Limit to 30 words.\n",
        "\n",
        "Review: ```{prod_review}```\n",
        "\"\"\"\n",
        "\n",
        "response = get_completion(prompt)\n",
        "print(response)\n"
      ],
      "metadata": {
        "colab": {
          "base_uri": "https://localhost:8080/"
        },
        "id": "HwcXwGCpSzUW",
        "outputId": "89c2d13e-0669-4f1b-de71-ba10cd3c7e32"
      },
      "execution_count": null,
      "outputs": [
        {
          "output_type": "stream",
          "name": "stdout",
          "text": [
            "The customer finds the panda plush toy cute and soft, but thinks it's a bit small for the price paid. Suggests there may be bigger options for the same price.\n"
          ]
        }
      ]
    },
    {
      "cell_type": "code",
      "source": [
        "review_1 = prod_review\n",
        "\n",
        "# review for a standing lamp\n",
        "review_2 = \"\"\"\n",
        "Needed a nice lamp for my bedroom, and this one \\\n",
        "had additional storage and not too high of a price \\\n",
        "point. Got it fast - arrived in 2 days. The string \\\n",
        "to the lamp broke during the transit and the company \\\n",
        "happily sent over a new one. Came within a few days \\\n",
        "as well. It was easy to put together. Then I had a \\\n",
        "missing part, so I contacted their support and they \\\n",
        "very quickly got me the missing piece! Seems to me \\\n",
        "to be a great company that cares about their customers \\\n",
        "and products.\n",
        "\"\"\"\n",
        "\n",
        "# review for an electric toothbrush\n",
        "review_3 = \"\"\"\n",
        "My dental hygienist recommended an electric toothbrush, \\\n",
        "which is why I got this. The battery life seems to be \\\n",
        "pretty impressive so far. After initial charging and \\\n",
        "leaving the charger plugged in for the first week to \\\n",
        "condition the battery, I've unplugged the charger and \\\n",
        "been using it for twice daily brushing for the last \\\n",
        "3 weeks all on the same charge. But the toothbrush head \\\n",
        "is too small. I’ve seen baby toothbrushes bigger than \\\n",
        "this one. I wish the head was bigger with different \\\n",
        "length bristles to get between teeth better because \\\n",
        "this one doesn’t.  Overall if you can get this one \\\n",
        "around the $50 mark, it's a good deal. The manufactuer's \\\n",
        "replacements heads are pretty expensive, but you can \\\n",
        "get generic ones that're more reasonably priced. This \\\n",
        "toothbrush makes me feel like I've been to the dentist \\\n",
        "every day. My teeth feel sparkly clean!\n",
        "\"\"\"\n",
        "\n",
        "reviews = [review_1, review_2, review_3]"
      ],
      "metadata": {
        "id": "UsmqbymqZ4WZ"
      },
      "execution_count": null,
      "outputs": []
    },
    {
      "cell_type": "code",
      "source": [
        "#Summarize multiple product reviews\n",
        "for i in range(len(reviews)):\n",
        "    prompt = f\"\"\"\n",
        "    Your task is to generate a short summary of a product \\\n",
        "    review from an ecommerce site.\n",
        "\n",
        "    Summarize the review below, delimited by triple \\\n",
        "    backticks in at most 20 words.\n",
        "\n",
        "    Review: ```{reviews[i]}```\n",
        "    \"\"\"\n",
        "\n",
        "    response = get_completion(prompt)\n",
        "    print(i, response, \"\\n\")"
      ],
      "metadata": {
        "colab": {
          "base_uri": "https://localhost:8080/"
        },
        "id": "fD3cBWdjaBrK",
        "outputId": "05900681-38fe-45db-b340-c200abfb43da"
      },
      "execution_count": null,
      "outputs": [
        {
          "output_type": "stream",
          "name": "stdout",
          "text": [
            "0 Soft and cute panda plush toy loved by daughter, but a bit small for the price. Arrived early. \n",
            "\n",
            "1 Affordable lamp with storage, fast shipping, and excellent customer service. Easy to assemble and missing parts were quickly replaced. \n",
            "\n",
            "2 Good battery life, small toothbrush head, but effective cleaning. Good deal if bought around $50. \n",
            "\n"
          ]
        }
      ]
    },
    {
      "cell_type": "markdown",
      "source": [
        "# **INFERRING**"
      ],
      "metadata": {
        "id": "Ieijp_73JHTq"
      }
    },
    {
      "cell_type": "code",
      "source": [
        "#CASE 1: Inferring sentiments\n",
        "lamp_review = \"\"\"\n",
        "Needed a nice lamp for my bedroom, and this one had \\\n",
        "additional storage and not too high of a price point. \\\n",
        "Got it fast.  The string to our lamp broke during the \\\n",
        "transit and the company happily sent over a new one. \\\n",
        "Came within a few days as well. It was easy to put \\\n",
        "together.  I had a missing part, so I contacted their \\\n",
        "support and they very quickly got me the missing piece! \\\n",
        "Lumina seems to me to be a great company that cares \\\n",
        "about their customers and products!!\n",
        "\"\"\""
      ],
      "metadata": {
        "id": "OWOocA6lJL-J"
      },
      "execution_count": null,
      "outputs": []
    },
    {
      "cell_type": "code",
      "source": [
        "prompt = f\"\"\"\n",
        "What is the sentiment of the following product review,\n",
        "which is delimited with triple backticks?\n",
        "\n",
        "Give your answer as a single word, either \"positive\" \\\n",
        "or \"negative\".\n",
        "\n",
        "Review text: '''{lamp_review}'''\n",
        "\"\"\"\n",
        "response = get_completion(prompt)\n",
        "print(response)"
      ],
      "metadata": {
        "colab": {
          "base_uri": "https://localhost:8080/"
        },
        "id": "uZ5NWygKkWiV",
        "outputId": "c33f6f6e-8a4a-449a-9435-086ac75df992"
      },
      "execution_count": null,
      "outputs": [
        {
          "output_type": "stream",
          "name": "stdout",
          "text": [
            "positive\n"
          ]
        }
      ]
    },
    {
      "cell_type": "code",
      "source": [
        "##Identify types of emotions\n",
        "prompt = f\"\"\"\n",
        "Identify a list of emotions that the writer of the \\\n",
        "following review is expressing. Include no more than \\\n",
        "five items in the list. Format your answer as a list of \\\n",
        "lower-case words separated by commas.\n",
        "\n",
        "Review text: '''{lamp_review}'''\n",
        "\"\"\"\n",
        "response = get_completion(prompt)\n",
        "print(response)"
      ],
      "metadata": {
        "colab": {
          "base_uri": "https://localhost:8080/"
        },
        "id": "ttG744ONkkti",
        "outputId": "c9f7b10e-f2f1-4242-bffc-ae45c5353f67"
      },
      "execution_count": null,
      "outputs": [
        {
          "output_type": "stream",
          "name": "stdout",
          "text": [
            "happy, satisfied, grateful, impressed, content\n"
          ]
        }
      ]
    },
    {
      "cell_type": "code",
      "source": [
        "##Identify anger\n",
        "prompt = f\"\"\"\n",
        "Is the writer of the following review expressing anger?\\\n",
        "The review is delimited with triple backticks. \\\n",
        "Give your answer as either yes or no.\n",
        "\n",
        "Review text: '''{lamp_review}'''\n",
        "\"\"\"\n",
        "response = get_completion(prompt)\n",
        "print(response)"
      ],
      "metadata": {
        "colab": {
          "base_uri": "https://localhost:8080/"
        },
        "id": "XfSBWAkAk6Ev",
        "outputId": "4887254f-75fd-4def-9609-30c0fecd5bd8"
      },
      "execution_count": null,
      "outputs": [
        {
          "output_type": "stream",
          "name": "stdout",
          "text": [
            "No\n"
          ]
        }
      ]
    },
    {
      "cell_type": "code",
      "source": [
        "##Mix different tasks with sentiment inference\n",
        "prompt = f\"\"\"\n",
        "Identify the following items from the review text:\n",
        "- Sentiment (positive or negative)\n",
        "- Is the reviewer expressing anger? (true or false)\n",
        "- Item purchased by reviewer\n",
        "- Company that made the item\n",
        "\n",
        "The review is delimited with triple backticks. \\\n",
        "Format your response as a JSON object with \\\n",
        "\"Sentiment\", \"Anger\", \"Item\" and \"Brand\" as the keys.\n",
        "If the information isn't present, use \"unknown\" \\\n",
        "as the value.\n",
        "Make your response as short as possible.\n",
        "Format the Anger value as a boolean.\n",
        "\n",
        "Review text: '''{lamp_review}'''\n",
        "\"\"\"\n",
        "response = get_completion(prompt)\n",
        "print(response)"
      ],
      "metadata": {
        "colab": {
          "base_uri": "https://localhost:8080/"
        },
        "id": "Il0x4xvtuJFy",
        "outputId": "c84d86eb-de51-4bb3-91d1-2f2b30b96e5c"
      },
      "execution_count": null,
      "outputs": [
        {
          "output_type": "stream",
          "name": "stdout",
          "text": [
            "{\n",
            "    \"Sentiment\": \"positive\",\n",
            "    \"Anger\": false,\n",
            "    \"Item\": \"lamp with additional storage\",\n",
            "    \"Brand\": \"Lumina\"\n",
            "}\n"
          ]
        }
      ]
    },
    {
      "cell_type": "code",
      "source": [
        "#CASE 2: Inferring topics\n",
        "story = \"\"\"\n",
        "In a recent survey conducted by the government,\n",
        "public sector employees were asked to rate their level\n",
        "of satisfaction with the department they work at.\n",
        "The results revealed that NASA was the most popular\n",
        "department with a satisfaction rating of 95%.\n",
        "\n",
        "One NASA employee, John Smith, commented on the findings,\n",
        "stating, \"I'm not surprised that NASA came out on top.\n",
        "It's a great place to work with amazing people and\n",
        "incredible opportunities. I'm proud to be a part of\n",
        "such an innovative organization.\"\n",
        "\n",
        "The results were also welcomed by NASA's management team,\n",
        "with Director Tom Johnson stating, \"We are thrilled to\n",
        "hear that our employees are satisfied with their work at NASA.\n",
        "We have a talented and dedicated team who work tirelessly\n",
        "to achieve our goals, and it's fantastic to see that their\n",
        "hard work is paying off.\"\n",
        "\n",
        "The survey also revealed that the\n",
        "Social Security Administration had the lowest satisfaction\n",
        "rating, with only 45% of employees indicating they were\n",
        "satisfied with their job. The government has pledged to\n",
        "address the concerns raised by employees in the survey and\n",
        "work towards improving job satisfaction across all departments.\n",
        "\"\"\""
      ],
      "metadata": {
        "id": "qam4lkmTvKzd"
      },
      "execution_count": null,
      "outputs": []
    },
    {
      "cell_type": "code",
      "source": [
        "prompt = f\"\"\"\n",
        "Determine five topics that are being discussed in the \\\n",
        "following text, which is delimited by triple backticks.\n",
        "\n",
        "Make each item one or two words long.\n",
        "\n",
        "Format your response as a list of items separated by commas.\n",
        "\n",
        "Text sample: '''{story}'''\n",
        "\"\"\"\n",
        "response = get_completion(prompt)\n",
        "print(response)\n",
        "\n",
        "#I can split response with response.split(sep=',')"
      ],
      "metadata": {
        "colab": {
          "base_uri": "https://localhost:8080/"
        },
        "id": "BZOjNmITvST3",
        "outputId": "93d9911e-3f90-4fb9-b25d-d23bc43bed14"
      },
      "execution_count": null,
      "outputs": [
        {
          "output_type": "stream",
          "name": "stdout",
          "text": [
            "Survey results, NASA, satisfaction rating, employee comments, Social Security Administration\n"
          ]
        }
      ]
    },
    {
      "cell_type": "code",
      "source": [
        "##Opposite process: Detect given topics\n",
        "topic_list = [\n",
        "    \"nasa\", \"local government\", \"engineering\",\n",
        "    \"employee satisfaction\", \"federal government\"\n",
        "]\n",
        "\n",
        "prompt = f\"\"\"\n",
        "Determine whether each item in the following list of \\\n",
        "topics is a topic in the text below, which\n",
        "is delimited with triple backticks.\n",
        "\n",
        "Give your answer as list with 0 or 1 for each topic.\\\n",
        "\n",
        "List of topics: {\", \".join(topic_list)}\n",
        "\n",
        "Text sample: '''{story}'''\n",
        "\"\"\"\n",
        "response = get_completion(prompt)\n",
        "print(response)"
      ],
      "metadata": {
        "colab": {
          "base_uri": "https://localhost:8080/"
        },
        "id": "V4OU540hvfNp",
        "outputId": "794285b4-acd1-4814-84b5-c03ddf7e1782"
      },
      "execution_count": null,
      "outputs": [
        {
          "output_type": "stream",
          "name": "stdout",
          "text": [
            "nasa: 1\n",
            "local government: 0\n",
            "engineering: 0\n",
            "employee satisfaction: 1\n",
            "federal government: 1\n"
          ]
        }
      ]
    },
    {
      "cell_type": "markdown",
      "source": [
        "# **TRANSFORMING**"
      ],
      "metadata": {
        "id": "L5a7DXKPmWlU"
      }
    },
    {
      "cell_type": "code",
      "source": [
        "#CASE 1: Translation\n",
        "prompt = f\"\"\"\n",
        "Translate the following English text to Spanish: \\\n",
        "```Hi, I would like to order a blender```\n",
        "\"\"\"\n",
        "response = get_completion(prompt)\n",
        "print(response)"
      ],
      "metadata": {
        "colab": {
          "base_uri": "https://localhost:8080/"
        },
        "id": "nWzVpEl1mfU4",
        "outputId": "32da5600-feab-4420-a916-d6c63bad7fbf"
      },
      "execution_count": null,
      "outputs": [
        {
          "output_type": "stream",
          "name": "stdout",
          "text": [
            "Hola, me gustaría ordenar una licuadora.\n"
          ]
        }
      ]
    },
    {
      "cell_type": "code",
      "source": [
        "#We can identify a language\n",
        "prompt = f\"\"\"\n",
        "Tell me which language this is:\n",
        "```Combien coûte le lampadaire?```\n",
        "\"\"\"\n",
        "response = get_completion(prompt)\n",
        "print(response)"
      ],
      "metadata": {
        "colab": {
          "base_uri": "https://localhost:8080/"
        },
        "id": "VYOqAKD8CY8o",
        "outputId": "4a6cb1e3-de26-48d4-cca6-f80f259dfe82"
      },
      "execution_count": null,
      "outputs": [
        {
          "output_type": "stream",
          "name": "stdout",
          "text": [
            "This language is French.\n"
          ]
        }
      ]
    },
    {
      "cell_type": "code",
      "source": [
        "#We can ask for a polite way or not\n",
        "prompt = f\"\"\"\n",
        "Translate the following text to Spanish in both the \\\n",
        "formal and informal forms:\n",
        "'Would you like to order a pillow?'\n",
        "\"\"\"\n",
        "response = get_completion(prompt)\n",
        "print(response)"
      ],
      "metadata": {
        "colab": {
          "base_uri": "https://localhost:8080/"
        },
        "id": "WXeobIQQDRYb",
        "outputId": "a6e9b378-a1b6-4c17-9b35-4c6caa1ff546"
      },
      "execution_count": null,
      "outputs": [
        {
          "output_type": "stream",
          "name": "stdout",
          "text": [
            "Formal: ¿Le gustaría ordenar una almohada?\n",
            "Informal: ¿Te gustaría ordenar una almohada?\n"
          ]
        }
      ]
    },
    {
      "cell_type": "code",
      "source": [
        "#Universal Translator:Dealing with different languages ​​at once\n",
        "user_messages = [\n",
        "  \"La performance du système est plus lente que d'habitude.\",  # System performance is slower than normal\n",
        "  \"Il mio mouse non funziona\",                                 # My screen is flashing\n",
        "  \"我的屏幕在闪烁\"                                               # My screen is flashing\n",
        "]\n"
      ],
      "metadata": {
        "id": "aR94N07TFHwV"
      },
      "execution_count": null,
      "outputs": []
    },
    {
      "cell_type": "code",
      "source": [
        "for issue in user_messages:\n",
        "    prompt = f\"Tell me what language this is: ```{issue}```\"\n",
        "    lang = get_completion(prompt)\n",
        "    print(f\"Original message ({lang}): {issue}\")\n",
        "\n",
        "    #prompt = f\"\"\"\n",
        "    #Translate the following  text to English: ```{issue}```\n",
        "    #\"\"\"\n",
        "    #response = get_completion(prompt)\n",
        "    #print(response, \"\\n\")"
      ],
      "metadata": {
        "colab": {
          "base_uri": "https://localhost:8080/"
        },
        "id": "Osps9I1hFTir",
        "outputId": "c9df8cd8-7dd8-4a8b-ee99-566a6847eaae"
      },
      "execution_count": null,
      "outputs": [
        {
          "output_type": "stream",
          "name": "stdout",
          "text": [
            "Original message (The language is French.): La performance du système est plus lente que d'habitude.\n",
            "Original message (The language is Italian.): Il mio mouse non funziona\n",
            "Original message (The language is Chinese.): 我的屏幕在闪烁\n"
          ]
        }
      ]
    },
    {
      "cell_type": "code",
      "source": [
        "for issue in user_messages:\n",
        "    prompt = f\"\"\"\n",
        "    Translate the following  text to English: ```{issue}```\n",
        "    \"\"\"\n",
        "    response = get_completion(prompt)\n",
        "    print(response, \"\\n\")"
      ],
      "metadata": {
        "colab": {
          "base_uri": "https://localhost:8080/"
        },
        "id": "o6YSMuWQLnU-",
        "outputId": "05ab9d5f-dcee-4dd2-c68d-ed4add352f9e"
      },
      "execution_count": null,
      "outputs": [
        {
          "output_type": "stream",
          "name": "stdout",
          "text": [
            "The system performance is slower than usual. \n",
            "\n",
            "My mouse is not working. \n",
            "\n",
            "My screen is flickering. \n",
            "\n"
          ]
        }
      ]
    },
    {
      "cell_type": "code",
      "source": [
        "#CASE 2: Tone Transformation\n",
        "prompt = f\"\"\"\n",
        "Translate the following from slang to a business letter:\n",
        "'Dude, This is Joe, check out this spec on this standing lamp.'\n",
        "\"\"\"\n",
        "response = get_completion(prompt)\n",
        "print(response)"
      ],
      "metadata": {
        "colab": {
          "base_uri": "https://localhost:8080/"
        },
        "id": "ZFdeKwHMO5py",
        "outputId": "6dd02e48-171c-410c-d2f4-174b6396655a"
      },
      "execution_count": null,
      "outputs": [
        {
          "output_type": "stream",
          "name": "stdout",
          "text": [
            "Dear Sir/Madam,\n",
            "\n",
            "I hope this letter finds you well. My name is Joe, and I am writing to bring your attention to a specification document regarding a standing lamp. \n",
            "\n",
            "I kindly request that you take a moment to review the attached document, as it provides detailed information about the features and specifications of the aforementioned standing lamp. \n",
            "\n",
            "Thank you for your time and consideration. I look forward to discussing this further with you.\n",
            "\n",
            "Yours sincerely,\n",
            "Joe\n"
          ]
        }
      ]
    },
    {
      "cell_type": "code",
      "source": [
        "#CASE 3: Format Conversion\n",
        "data_json = { \"resturant employees\" :[\n",
        "    {\"name\":\"Shyam\", \"email\":\"shyamjaiswal@gmail.com\"},\n",
        "    {\"name\":\"Bob\", \"email\":\"bob32@gmail.com\"},\n",
        "    {\"name\":\"Jai\", \"email\":\"jai87@gmail.com\"}\n",
        "]}\n",
        "\n",
        "prompt = f\"\"\"\n",
        "Translate the following python dictionary from JSON to an HTML \\\n",
        "table with column headers and title: {data_json}\n",
        "\"\"\"\n",
        "response = get_completion(prompt)\n",
        "print(response)"
      ],
      "metadata": {
        "colab": {
          "base_uri": "https://localhost:8080/"
        },
        "id": "kb3ookkRQS2t",
        "outputId": "559abf16-b4ec-4e19-b5af-18bb8df25667"
      },
      "execution_count": null,
      "outputs": [
        {
          "output_type": "stream",
          "name": "stdout",
          "text": [
            "<!DOCTYPE html>\n",
            "<html>\n",
            "<head>\n",
            "<style>\n",
            "table {\n",
            "  font-family: arial, sans-serif;\n",
            "  border-collapse: collapse;\n",
            "  width: 100%;\n",
            "}\n",
            "\n",
            "td, th {\n",
            "  border: 1px solid #dddddd;\n",
            "  text-align: left;\n",
            "  padding: 8px;\n",
            "}\n",
            "\n",
            "tr:nth-child(even) {\n",
            "  background-color: #dddddd;\n",
            "}\n",
            "</style>\n",
            "</head>\n",
            "<body>\n",
            "\n",
            "<h2>Restaurant Employees</h2>\n",
            "\n",
            "<table>\n",
            "  <tr>\n",
            "    <th>Name</th>\n",
            "    <th>Email</th>\n",
            "  </tr>\n",
            "  <tr>\n",
            "    <td>Shyam</td>\n",
            "    <td>shyamjaiswal@gmail.com</td>\n",
            "  </tr>\n",
            "  <tr>\n",
            "    <td>Bob</td>\n",
            "    <td>bob32@gmail.com</td>\n",
            "  </tr>\n",
            "  <tr>\n",
            "    <td>Jai</td>\n",
            "    <td>jai87@gmail.com</td>\n",
            "  </tr>\n",
            "</table>\n",
            "\n",
            "</body>\n",
            "</html>\n"
          ]
        }
      ]
    },
    {
      "cell_type": "code",
      "source": [
        "from IPython.display import display, Markdown, Latex, HTML, JSON\n",
        "display(HTML(response))"
      ],
      "metadata": {
        "colab": {
          "base_uri": "https://localhost:8080/",
          "height": 69
        },
        "id": "PiCmL-ExQw9c",
        "outputId": "5e60dd87-fbe1-4c76-c2c8-ec90cd0d4482"
      },
      "execution_count": null,
      "outputs": [
        {
          "output_type": "display_data",
          "data": {
            "text/plain": [
              "<IPython.core.display.HTML object>"
            ],
            "text/html": [
              "Got this for my daughter for her birthday because she keeps taking mine from my room. Yes, adults also like pandas too. She takes it everywhere with her, and it's super soft and cute. However, one of the ears is a bit lower than the other, and I don't think that was designed to be asymmetrical. Additionally, it's a bit small for what I paid for it. I believe there might be other options that are bigger for the same price. On the positive side, it arrived a day earlier than expected, so I got to play with it myself before I gave it to my daughter."
            ]
          },
          "metadata": {}
        }
      ]
    },
    {
      "cell_type": "code",
      "source": [
        "#CASE 4: Spellcheck/Grammar check\n",
        "text = [\n",
        "  \"The girl with the black and white puppies have a ball.\",  # The girl has a ball.\n",
        "  \"Yolanda has her notebook.\", # ok\n",
        "  \"Its going to be a long day. Does the car need it’s oil changed?\",  # Homonyms\n",
        "]\n",
        "for t in text:\n",
        "    prompt = f\"\"\"Proofread and correct the following text\n",
        "    and rewrite the corrected version. If you don't find\n",
        "    any errors, just say \"No errors found\". Don't use\n",
        "    any punctuation around the text:\n",
        "    ```{t}```\"\"\"\n",
        "    response = get_completion(prompt)\n",
        "    print(response)"
      ],
      "metadata": {
        "colab": {
          "base_uri": "https://localhost:8080/"
        },
        "id": "eYWA8GTMRj3g",
        "outputId": "94c9bdb2-cd2c-4e2d-8c4e-6f7e0aac6e61"
      },
      "execution_count": null,
      "outputs": [
        {
          "output_type": "stream",
          "name": "stdout",
          "text": [
            "The girl with the black and white puppies has a ball.\n",
            "No errors found.\n",
            "It's going to be a long day. Does the car need its oil changed?\n"
          ]
        }
      ]
    },
    {
      "cell_type": "code",
      "source": [
        "#Proofread more compelling and in a specific style\n",
        "text = f\"\"\"\n",
        "Got this for my daughter for her birthday cuz she keeps taking \\\n",
        "mine from my room.  Yes, adults also like pandas too.  She takes \\\n",
        "it everywhere with her, and it's super soft and cute.  One of the \\\n",
        "ears is a bit lower than the other, and I don't think that was \\\n",
        "designed to be asymmetrical. It's a bit small for what I paid for it \\\n",
        "though. I think there might be other options that are bigger for \\\n",
        "the same price.  It arrived a day earlier than expected, so I got \\\n",
        "to play with it myself before I gave it to my daughter.\n",
        "\"\"\"\n",
        "prompt = f\"proofread and correct this review: ```{text}```\"\n",
        "response = get_completion(prompt)\n",
        "print(response)"
      ],
      "metadata": {
        "colab": {
          "base_uri": "https://localhost:8080/"
        },
        "id": "4UPfQ857TX0o",
        "outputId": "1d338418-615a-4b7a-a774-c49b9066a3f3"
      },
      "execution_count": null,
      "outputs": [
        {
          "output_type": "stream",
          "name": "stdout",
          "text": [
            "Got this for my daughter for her birthday because she keeps taking mine from my room. Yes, adults also like pandas too. She takes it everywhere with her, and it's super soft and cute. However, one of the ears is a bit lower than the other, and I don't think that was designed to be asymmetrical. Additionally, it's a bit small for what I paid for it. I believe there might be other options that are bigger for the same price. On the positive side, it arrived a day earlier than expected, so I got to play with it myself before I gave it to my daughter.\n"
          ]
        }
      ]
    },
    {
      "cell_type": "code",
      "source": [
        "prompt = f\"\"\"\n",
        "proofread and correct this review. Make it more compelling.\n",
        "Ensure it follows APA style guide and targets an advanced reader.\n",
        "Output in markdown format.\n",
        "Text: ```{text}```\n",
        "\"\"\"\n",
        "response = get_completion(prompt)\n",
        "display(Markdown(response))"
      ],
      "metadata": {
        "colab": {
          "base_uri": "https://localhost:8080/",
          "height": 250
        },
        "id": "BG9_J4BqU8sX",
        "outputId": "a83484b0-08a2-42a1-e5db-5ca687d35e0d"
      },
      "execution_count": null,
      "outputs": [
        {
          "output_type": "display_data",
          "data": {
            "text/plain": [
              "<IPython.core.display.Markdown object>"
            ],
            "text/markdown": "**Review of the Panda Plush Toy: A Perfect Gift for All Ages**\n\nI purchased this adorable panda plush toy as a birthday gift for my daughter, who has a penchant for sneaking into my room and taking mine. It's worth noting that pandas are not just for children; even adults can't resist their charm. \n\nFrom the moment my daughter unwrapped this gift, she has been inseparable from it. The plush toy's irresistibly soft and cuddly texture makes it the perfect companion for her daily adventures. However, I did notice a minor flaw in its design - one of the ears is slightly lower than the other, which seems unintentional. \n\nWhile the quality of the toy is undeniably exceptional, I must admit that I expected it to be slightly larger considering its price. It would be wise to explore other options that offer a larger size for the same price point. \n\nOn a positive note, the delivery of the panda plush toy exceeded my expectations. It arrived a day earlier than anticipated, allowing me to indulge in some playtime with it before presenting it to my daughter. \n\nIn conclusion, despite its minor imperfections, this panda plush toy is a delightful gift that brings joy to both children and adults alike. Its softness, cuteness, and early arrival make it a compelling choice for any panda enthusiast."
          },
          "metadata": {}
        }
      ]
    },
    {
      "cell_type": "markdown",
      "source": [
        "# **EXPANDING**"
      ],
      "metadata": {
        "id": "hKGEuEj96awV"
      }
    },
    {
      "cell_type": "code",
      "source": [
        "#Customize the automated reply to a customer email\n",
        "#review for a blender:\n",
        "review = f\"\"\"\n",
        "So, they still had the 17 piece system on seasonal \\\n",
        "sale for around $49 in the month of November, about \\\n",
        "half off, but for some reason (call it price gouging) \\\n",
        "around the second week of December the prices all went \\\n",
        "up to about anywhere from between $70-$89 for the same \\\n",
        "system. And the 11 piece system went up around $10 or \\\n",
        "so in price also from the earlier sale price of $29. \\\n",
        "So it looks okay, but if you look at the base, the part \\\n",
        "where the blade locks into place doesn’t look as good \\\n",
        "as in previous editions from a few years ago, but I \\\n",
        "plan to be very gentle with it (example, I crush \\\n",
        "very hard items like beans, ice, rice, etc. in the \\\n",
        "blender first then pulverize them in the serving size \\\n",
        "I want in the blender then switch to the whipping \\\n",
        "blade for a finer flour, and use the cross cutting blade \\\n",
        "first when making smoothies, then use the flat blade \\\n",
        "if I need them finer/less pulpy). Special tip when making \\\n",
        "smoothies, finely cut and freeze the fruits and \\\n",
        "vegetables (if using spinach-lightly stew soften the \\\n",
        "spinach then freeze until ready for use-and if making \\\n",
        "sorbet, use a small to medium sized food processor) \\\n",
        "that you plan to use that way you can avoid adding so \\\n",
        "much ice if at all-when making your smoothie. \\\n",
        "After about a year, the motor was making a funny noise. \\\n",
        "I called customer service but the warranty expired \\\n",
        "already, so I had to buy another one. FYI: The overall \\\n",
        "quality has gone done in these types of products, so \\\n",
        "they are kind of counting on brand recognition and \\\n",
        "consumer loyalty to maintain sales. Got it in about \\\n",
        "two days.\n",
        "\"\"\""
      ],
      "metadata": {
        "id": "tdhjPsWEKKdX"
      },
      "execution_count": null,
      "outputs": []
    },
    {
      "cell_type": "code",
      "source": [
        "#Inferring the sentiment\n",
        "prompt = f\"\"\"\n",
        "What is the sentiment of the following product review,\n",
        "which is delimited with triple backticks?\n",
        "\n",
        "Give your answer as a single word, either \"positive\" \\\n",
        "or \"negative\".\n",
        "\n",
        "Review text: '''{review}'''\n",
        "\"\"\"\n",
        "sentiment = get_completion(prompt)\n",
        "print(sentiment)"
      ],
      "metadata": {
        "colab": {
          "base_uri": "https://localhost:8080/"
        },
        "id": "D8onY4Oud7xf",
        "outputId": "d023f68b-864c-4bed-fe8c-f9fc07190c50"
      },
      "execution_count": null,
      "outputs": [
        {
          "output_type": "stream",
          "name": "stdout",
          "text": [
            "negative\n"
          ]
        }
      ]
    },
    {
      "cell_type": "code",
      "source": [
        "#Generating the email given a previous sentiment\n",
        "prompt = f\"\"\"\n",
        "You are a customer service AI assistant.\n",
        "Your task is to send an email reply to a valued customer.\n",
        "Given the customer email delimited by ```, \\\n",
        "Generate a reply to thank the customer for their review.\n",
        "If the sentiment is positive or neutral, thank them for \\\n",
        "their review.\n",
        "If the sentiment is negative, apologize and suggest that \\\n",
        "they can reach out to customer service.\n",
        "Make sure to use specific details from the review.\n",
        "Write in a concise and professional tone.\n",
        "Sign the email as `AI customer agent`.\n",
        "Customer review: ```{review}```\n",
        "Review sentiment: {sentiment}\n",
        "\"\"\"\n",
        "response = get_completion(prompt)\n",
        "print(response)"
      ],
      "metadata": {
        "id": "u9Ei1SWOhv2e"
      },
      "execution_count": null,
      "outputs": []
    },
    {
      "cell_type": "code",
      "source": [
        "#Generating the email\n",
        "prompt = f\"\"\"\n",
        "You are a customer service AI assistant. \\\n",
        "Your task is to send an email reply to a valued customer. \\\n",
        "Given the customer email delimited by ```, do the following:\\\n",
        "First, evaluate if the sentiment expressed in the email is \"positive\" \\\n",
        "\"neutral\" or \"negative\". \\\n",
        "Then, generate a reply to thank the customer for their review. \\\n",
        "If the sentiment is positive or neutral, thank them for \\\n",
        "their review.\n",
        "If the sentiment is negative, apologize and suggest that \\\n",
        "they can reach out to customer service.\n",
        "Make sure to use specific details from the review.\n",
        "Write in a concise and professional tone.\n",
        "Sign the email as `AI customer agent`.\n",
        "Customer review: ```{review}```\n",
        "\"\"\"\n",
        "response = get_completion(prompt, temperature=0.5) #We can turn up the temperature for more creative responses\n",
        "print(response)"
      ],
      "metadata": {
        "colab": {
          "base_uri": "https://localhost:8080/"
        },
        "id": "qAo6Ptf4bkAw",
        "outputId": "fe3b65e0-28a4-4949-e898-a238578ef3b0"
      },
      "execution_count": null,
      "outputs": [
        {
          "output_type": "stream",
          "name": "stdout",
          "text": [
            "Dear valued customer,\n",
            "\n",
            "Thank you for taking the time to share your review with us. We appreciate your feedback and are glad to hear that you were able to take advantage of our seasonal sale on the 17 piece system in November.\n",
            "\n",
            "We apologize for any confusion regarding the pricing changes in December. Our prices are subject to change based on various factors, including market conditions and product availability. We understand that this may have been disappointing for you.\n",
            "\n",
            "Regarding the base of the system, we appreciate your observation. We constantly strive to improve our products and your feedback will be taken into consideration for future enhancements.\n",
            "\n",
            "We are sorry to hear about the issue you experienced with the motor after a year of use. Our customer service team is here to assist you, even if the warranty has expired. Please feel free to reach out to them for further assistance.\n",
            "\n",
            "Thank you once again for your review and for choosing our products. We value your loyalty and are committed to providing you with the best possible experience.\n",
            "\n",
            "If you have any further questions or concerns, please do not hesitate to contact our customer service team.\n",
            "\n",
            "Best regards,\n",
            "\n",
            "AI customer agent\n"
          ]
        }
      ]
    }
  ]
}
